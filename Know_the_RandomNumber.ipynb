{
 "cells": [
  {
   "cell_type": "code",
   "execution_count": null,
   "metadata": {},
   "outputs": [
    {
     "name": "stdout",
     "output_type": "stream",
     "text": [
      "Write a number between 1 and 100 (Wrire '0' to exit):10\n",
      "Write a Higher Number.\n",
      "Write a number between 1 and 100 (Wrire '0' to exit):20\n",
      "Write a Lower Number.\n",
      "Write a number between 1 and 100 (Wrire '0' to exit):12\n",
      "Write a Higher Number.\n",
      "Write a number between 1 and 100 (Wrire '0' to exit):15\n",
      "Congrats! The number was 15!\n",
      "You know the answer 4 step\n"
     ]
    }
   ],
   "source": [
    "from random import randint\n",
    " \n",
    "random_number=randint(1, 100)\n",
    "counter=0\n",
    " \n",
    "while True:\n",
    "    counter+=1\n",
    "    number=int(input(\"Write a number between 1 and 100 (Wrire '0' to exit):\"))\n",
    "    if(number==0):\n",
    "        print(\"You cancelled\")\n",
    "        break\n",
    "    elif number < random_number:\n",
    "        print(\"Write a Higher Number.\")\n",
    "        continue\n",
    "    elif number > random_number:\n",
    "        print(\"Write a Lower Number.\")\n",
    "        continue\n",
    "    else:\n",
    "        print(\"Congrats! The number was {0}!\".format(random_number))\n",
    "        print(\"You know the answer {0}. step\".format(counter))"
   ]
  }
 ],
 "metadata": {
  "kernelspec": {
   "display_name": "Python 3",
   "language": "python",
   "name": "python3"
  },
  "language_info": {
   "codemirror_mode": {
    "name": "ipython",
    "version": 3
   },
   "file_extension": ".py",
   "mimetype": "text/x-python",
   "name": "python",
   "nbconvert_exporter": "python",
   "pygments_lexer": "ipython3",
   "version": "3.8.3"
  }
 },
 "nbformat": 4,
 "nbformat_minor": 4
}
